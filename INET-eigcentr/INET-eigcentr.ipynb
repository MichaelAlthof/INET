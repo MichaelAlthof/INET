{
 "cells": [
  {
   "cell_type": "code",
   "execution_count": null,
   "metadata": {
    "collapsed": true
   },
   "outputs": [],
   "source": [
    "import numpy as np\n",
    "import matplotlib.pyplot as plt\n",
    "from numpy import genfromtxt\n",
    "import operator\n",
    "import networkx as nx\n",
    "import pandas as pd\n",
    "import csv\n",
    "list_in = []\n",
    "list_out = []\n",
    "# the series of 'beta_L_median' should be replaced with 'beta_L_lowertail' and 'beta_L_uppertail' when dealing with different cases\n",
    "for num in range(1,3):\n",
    "    mydata = genfromtxt(\"beta_L_median \"+str(num)+\" .csv\", delimiter=',')\n",
    "    adjacency = mydata[1:,1:]\n",
    "    print(adjacency)\n",
    "    adjacency = abs(adjacency) \n",
    "    G = nx.DiGraph(adjacency)\n",
    "    G1 = nx.reverse(G)\n",
    "    mapping={0:'Agric',1:'Food',2:'Soda',3:'Beer', 4:'Smoke',5:'Toys',6:'Fun',7:'Books',\n",
    "             8:'Hshld',9:'Clths',10:'Hlth',11:'MedEq',12:'Drugs',13:'Chems',14:'Rubbr',15:'Txtls',\n",
    "             16:'BldMt',17:'Cnstr',18:'Steel',19:'FabPr',20:'Mach',21:'ElcEq',22:'Autos',23:'Aero',\n",
    "             24:'Ships',25:'Guns',26:'Gold',27:'Mines',28:'Coal',29:'Oil',30:'Util',31:'Telcm',\n",
    "             32:'PerSv',33:'BusSv',34:'Hardw',35:'Softw',36:'Chips',37:'LabEq',38:'Paper',39:'Boxes',\n",
    "             40:'Trans',41:'Whlsl',42:'Rtail',43:'Meals',44:'Banks',45:'Insur',46:'RlEst',47:'Fin',48:'Other'}\n",
    "#print (mapping)\n",
    "#in and out eigenvector centrality scores of each node\n",
    "    H = nx.relabel_nodes(G1,mapping)\n",
    "    H1 = nx.relabel_nodes(G,mapping)\n",
    "    centrality_in = nx.eigenvector_centrality(H)\n",
    "    centrality_out = nx.eigenvector_centrality(H1)\n",
    "    print(centrality_in)\n",
    "    print(centrality_out)\n",
    "    list_in.append(centrality_in)\n",
    "    list_out.append(centrality_out)\n",
    "print(list_in)\n",
    "print(list_out)\n",
    "keys = list_in[0].keys()\n",
    "with open('cen_in_median_mw.CSV', 'w') as output_file:\n",
    "    dict_writer = csv.DictWriter(output_file, keys)\n",
    "    dict_writer.writeheader()\n",
    "    dict_writer.writerows(list_in)\n",
    "with open('cen_out_median_mw.CSV', 'w') as output_file:\n",
    "    dict_writer = csv.DictWriter(output_file, keys)\n",
    "    dict_writer.writeheader()\n",
    "    dict_writer.writerows(list_in)"
   ]
  }
 ],
 "metadata": {
  "anaconda-cloud": {},
  "kernelspec": {
   "display_name": "Python [default]",
   "language": "python",
   "name": "python3"
  },
  "language_info": {
   "codemirror_mode": {
    "name": "ipython",
    "version": 3
   },
   "file_extension": ".py",
   "mimetype": "text/x-python",
   "name": "python",
   "nbconvert_exporter": "python",
   "pygments_lexer": "ipython3",
   "version": "3.5.2"
  }
 },
 "nbformat": 4,
 "nbformat_minor": 1
}
